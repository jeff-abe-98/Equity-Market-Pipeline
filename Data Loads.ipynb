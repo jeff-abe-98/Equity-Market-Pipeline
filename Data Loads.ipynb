{
 "cells": [
  {
   "cell_type": "code",
   "execution_count": 0,
   "metadata": {
    "application/vnd.databricks.v1+cell": {
     "cellMetadata": {
      "byteLimit": 2048000,
      "rowLimit": 10000
     },
     "inputWidgets": {},
     "nuid": "313d0ee8-bec3-4117-b975-1a490b72bb92",
     "showTitle": false,
     "title": ""
    }
   },
   "outputs": [],
   "source": [
    "import pyspark\n",
    "from pyspark.sql import SparkSession, Window\n",
    "from pyspark.sql import Row\n",
    "from pyspark.sql.types import StructType, StructField, IntegerType, DecimalType, StringType, DateType, TimestampType\n",
    "from pyspark.sql import functions as F\n",
    "from decimal import Decimal\n",
    "from datetime import datetime\n",
    "spark = SparkSession.builder.appName('DataIngestion').getOrCreate()"
   ]
  },
  {
   "cell_type": "code",
   "execution_count": 0,
   "metadata": {
    "application/vnd.databricks.v1+cell": {
     "cellMetadata": {
      "byteLimit": 2048000,
      "rowLimit": 10000
     },
     "inputWidgets": {},
     "nuid": "d6392c57-807c-41e4-a5ad-26ec8b3e8d31",
     "showTitle": false,
     "title": ""
    }
   },
   "outputs": [],
   "source": [
    "all_data = spark.read.parquet('/mnt/parsed/')\n",
    "trade_common = all_data.filter(F.col('partition')=='T')\n",
    "quote_common = all_data.filter(F.col('partition')=='Q')"
   ]
  },
  {
   "cell_type": "code",
   "execution_count": 0,
   "metadata": {
    "application/vnd.databricks.v1+cell": {
     "cellMetadata": {
      "byteLimit": 2048000,
      "rowLimit": 10000
     },
     "inputWidgets": {},
     "nuid": "8b13153a-6cda-46c4-9ff8-f312e7b19b56",
     "showTitle": false,
     "title": ""
    }
   },
   "outputs": [
    {
     "output_type": "execute_result",
     "data": {
      "text/plain": [
       "['trade_dt',\n",
       " 'rec_type',\n",
       " 'symbol',\n",
       " 'exchange',\n",
       " 'event_tm',\n",
       " 'event_seq_nb',\n",
       " 'arrival_tm',\n",
       " 'trade_pr',\n",
       " 'bid_pr',\n",
       " 'bid_size',\n",
       " 'ask_pr',\n",
       " 'ask_size',\n",
       " 'raw',\n",
       " 'partition']"
      ]
     },
     "execution_count": 38,
     "metadata": {},
     "output_type": "execute_result"
    }
   ],
   "source": [
    "all_data.columns"
   ]
  },
  {
   "cell_type": "code",
   "execution_count": 0,
   "metadata": {
    "application/vnd.databricks.v1+cell": {
     "cellMetadata": {
      "byteLimit": 2048000,
      "rowLimit": 10000
     },
     "inputWidgets": {},
     "nuid": "613c8816-11af-4b9c-beae-94c5a23d576e",
     "showTitle": false,
     "title": ""
    }
   },
   "outputs": [],
   "source": [
    "trade = trade_common.select(\"trade_dt\", \"symbol\", \"exchange\", \"event_tm\", \"event_seq_nb\", \"arrival_tm\", \"trade_pr\")"
   ]
  },
  {
   "cell_type": "code",
   "execution_count": 0,
   "metadata": {
    "application/vnd.databricks.v1+cell": {
     "cellMetadata": {
      "byteLimit": 2048000,
      "rowLimit": 10000
     },
     "inputWidgets": {},
     "nuid": "cd804b2b-61cd-41b5-9ba7-5f4538e88d54",
     "showTitle": false,
     "title": ""
    }
   },
   "outputs": [],
   "source": [
    "trade_window = Window.partitionBy([\"trade_dt\", \"symbol\", \"exchange\", \"event_tm\", \"event_seq_nb\"])\n",
    "trade_corrected = trade.withColumn(\"latest_arrival\", F.max(\"arrival_tm\").over(trade_window)).filter(F.col(\"arrival_tm\") == F.col(\"latest_arrival\"))"
   ]
  },
  {
   "cell_type": "code",
   "execution_count": 0,
   "metadata": {
    "application/vnd.databricks.v1+cell": {
     "cellMetadata": {
      "byteLimit": 2048000,
      "rowLimit": 10000
     },
     "inputWidgets": {},
     "nuid": "6c2c9eae-4791-4f4a-b6f8-57f274f7bc0c",
     "showTitle": false,
     "title": ""
    }
   },
   "outputs": [
    {
     "output_type": "stream",
     "name": "stdout",
     "output_type": "stream",
     "text": [
      "+----------+--------+------+--------+--------------------+------------+-------------------+--------+------+--------+------+--------+----+---------+\n|  trade_dt|rec_type|symbol|exchange|            event_tm|event_seq_nb|         arrival_tm|trade_pr|bid_pr|bid_size|ask_pr|ask_size| raw|partition|\n+----------+--------+------+--------+--------------------+------------+-------------------+--------+------+--------+------+--------+----+---------+\n|2020-08-05|       Q|  SYMB|    NYSE|2020-08-05 15:38:...|          51|2020-08-05 09:30:00|    NULL|    32|     100|    34|     100|NULL|        Q|\n|2020-08-05|       Q|  SYMB|    NYSE|2020-08-05 15:26:...|          49|2020-08-05 09:30:00|    NULL|    34|     100|    35|     100|NULL|        Q|\n|2020-08-05|       Q|  SYMB|    NYSE|2020-08-05 15:17:...|          48|2020-08-05 09:30:00|    NULL|    34|     100|    35|     100|NULL|        Q|\n|2020-08-05|       Q|  SYMB|    NYSE|2020-08-05 15:11:...|          47|2020-08-05 09:30:00|    NULL|    33|     100|    35|     100|NULL|        Q|\n|2020-08-05|       Q|  SYMB|    NYSE|2020-08-05 15:06:...|          46|2020-08-05 09:30:00|    NULL|    35|     100|    36|     100|NULL|        Q|\n+----------+--------+------+--------+--------------------+------------+-------------------+--------+------+--------+------+--------+----+---------+\nonly showing top 5 rows\n\n"
     ]
    }
   ],
   "source": [
    "quote_common.show(5)"
   ]
  },
  {
   "cell_type": "code",
   "execution_count": 0,
   "metadata": {
    "application/vnd.databricks.v1+cell": {
     "cellMetadata": {
      "byteLimit": 2048000,
      "rowLimit": 10000
     },
     "inputWidgets": {},
     "nuid": "05f95a0c-1dfc-41c6-99bd-639b720550bb",
     "showTitle": false,
     "title": ""
    }
   },
   "outputs": [],
   "source": [
    "quote = quote_common.select('trade_dt', 'symbol', 'exchange', 'event_tm', 'event_seq_nb', 'arrival_tm', 'bid_pr', 'bid_size', 'ask_pr', 'ask_size')"
   ]
  },
  {
   "cell_type": "code",
   "execution_count": 0,
   "metadata": {
    "application/vnd.databricks.v1+cell": {
     "cellMetadata": {
      "byteLimit": 2048000,
      "rowLimit": 10000
     },
     "inputWidgets": {},
     "nuid": "eb67a4fe-0c8a-449a-9d50-c41161a12dee",
     "showTitle": false,
     "title": ""
    }
   },
   "outputs": [],
   "source": [
    "quote_window = Window.partitionBy(['trade_dt', 'symbol', 'exchange', 'event_tm', 'event_seq_nb', 'bid_pr', 'bid_size', 'ask_pr', 'ask_size'])\n",
    "quote_corrected = quote.withColumn(\"latest_arrival\", F.max(\"arrival_tm\").over(quote_window)).filter(F.col(\"latest_arrival\") == F.col(\"arrival_tm\"))"
   ]
  },
  {
   "cell_type": "code",
   "execution_count": 0,
   "metadata": {
    "application/vnd.databricks.v1+cell": {
     "cellMetadata": {
      "byteLimit": 2048000,
      "rowLimit": 10000
     },
     "inputWidgets": {},
     "nuid": "f79d4259-bb09-434c-ae38-b43a6f1ae410",
     "showTitle": false,
     "title": ""
    }
   },
   "outputs": [],
   "source": [
    "quote_corrected.write.mode('overwrite').partitionBy('trade_dt').parquet('/mnt/loaded/quote/')\n",
    "trade_corrected.write.mode('overwrite').partitionBy('trade_dt').parquet('mnt/loaded/trade/')"
   ]
  }
 ],
 "metadata": {
  "application/vnd.databricks.v1+notebook": {
   "dashboards": [],
   "environmentMetadata": null,
   "language": "python",
   "notebookMetadata": {
    "pythonIndentUnit": 4
   },
   "notebookName": "Data Loads",
   "widgets": {}
  }
 },
 "nbformat": 4,
 "nbformat_minor": 0
}
