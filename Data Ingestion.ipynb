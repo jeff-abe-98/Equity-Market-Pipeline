{
 "cells": [
  {
   "cell_type": "code",
   "execution_count": 0,
   "metadata": {
    "application/vnd.databricks.v1+cell": {
     "cellMetadata": {
      "byteLimit": 2048000,
      "rowLimit": 10000
     },
     "inputWidgets": {},
     "nuid": "953d96ae-af35-416a-927b-a752ae9d713a",
     "showTitle": false,
     "title": ""
    }
   },
   "outputs": [],
   "source": [
    "import pyspark\n",
    "from pyspark.sql import SparkSession\n",
    "from pyspark.sql import Row\n",
    "from pyspark.sql.types import StructType, StructField, IntegerType, DecimalType, StringType, DateType, TimestampType\n",
    "from decimal import Decimal\n",
    "from datetime import datetime\n",
    "spark = SparkSession.builder.appName('DataIngestion').getOrCreate()\n",
    "sc = spark.sparkContext"
   ]
  },
  {
   "cell_type": "code",
   "execution_count": 0,
   "metadata": {
    "application/vnd.databricks.v1+cell": {
     "cellMetadata": {
      "byteLimit": 2048000,
      "rowLimit": 10000
     },
     "inputWidgets": {},
     "nuid": "a13a4ca0-abc0-4de6-a233-d51915366b06",
     "showTitle": false,
     "title": ""
    }
   },
   "outputs": [],
   "source": [
    "CommonEvent = Row('trade_dt', 'rec_type', 'symbol', 'exchange', 'event_tm', 'event_seq_nb', 'arrival_tm', 'trade_pr', 'bid_pr', 'bid_size', 'ask_pr', 'ask_size', 'partition', 'raw')"
   ]
  },
  {
   "cell_type": "code",
   "execution_count": 0,
   "metadata": {
    "application/vnd.databricks.v1+cell": {
     "cellMetadata": {
      "byteLimit": 2048000,
      "rowLimit": 10000
     },
     "inputWidgets": {},
     "nuid": "b576b9c3-038b-4a50-9b26-e2919ab2c2ea",
     "showTitle": false,
     "title": ""
    }
   },
   "outputs": [],
   "source": [
    "CommonEventSchema = StructType([\n",
    "                StructField('trade_dt', DateType(), True),\n",
    "                StructField('rec_type', StringType(), True),\n",
    "                StructField('symbol', StringType(), True),\n",
    "                StructField('exchange', StringType(), True),\n",
    "                StructField('event_tm', TimestampType(), True),\n",
    "                StructField('event_seq_nb', IntegerType(), True),\n",
    "                StructField('arrival_tm', TimestampType(), True),\n",
    "                StructField('trade_pr', DecimalType(), True),\n",
    "                StructField('bid_pr', DecimalType(), True),\n",
    "                StructField('bid_size', IntegerType(), True),\n",
    "                StructField('ask_pr', DecimalType(), True),\n",
    "                StructField('ask_size', IntegerType(), True),\n",
    "                StructField('partition', StringType(), True),\n",
    "                StructField('raw', StringType(), True)\n",
    "])"
   ]
  },
  {
   "cell_type": "code",
   "execution_count": 0,
   "metadata": {
    "application/vnd.databricks.v1+cell": {
     "cellMetadata": {
      "byteLimit": 2048000,
      "rowLimit": 10000
     },
     "inputWidgets": {},
     "nuid": "259278e0-dd55-4e52-81b5-99fbe20f987d",
     "showTitle": false,
     "title": ""
    }
   },
   "outputs": [],
   "source": [
    "rawcsv = sc.textFile(\"/mnt/source/data/csv/2020-08-05/NYSE/part-00000-5e4ced0a-66e2-442a-b020-347d0df4df8f-c000.txt\")"
   ]
  },
  {
   "cell_type": "code",
   "execution_count": 0,
   "metadata": {
    "application/vnd.databricks.v1+cell": {
     "cellMetadata": {
      "byteLimit": 2048000,
      "rowLimit": 10000
     },
     "inputWidgets": {},
     "nuid": "94dac27d-b4ee-4874-a871-f145a263118e",
     "showTitle": false,
     "title": ""
    }
   },
   "outputs": [],
   "source": [
    "def parse_csv(line):\n",
    "    items = line.split(',')\n",
    "    type_pos = 2\n",
    "    try:\n",
    "        if items[type_pos] == \"T\":\n",
    "            event = CommonEvent(datetime.strptime(items[0], '%Y-%m-%d'), \n",
    "                               items[2], \n",
    "                               items[3], \n",
    "                               items[6], \n",
    "                               datetime.strptime(items[4], \"%Y-%m-%d %H:%M:%S.%f\"), \n",
    "                               int(items[5]), \n",
    "                               datetime.strptime(items[1], \"%Y-%m-%d %H:%M:%S.%f\"), \n",
    "                               Decimal(items[7]),\n",
    "                               None, \n",
    "                               None,\n",
    "                               None,\n",
    "                               None,\n",
    "                               \"T\",\n",
    "                               None)\n",
    "            return event\n",
    "        elif items[type_pos] == \"Q\":\n",
    "            event = CommonEvent(datetime.strptime(items[0], '%Y-%m-%d'),\n",
    "                               items[2],\n",
    "                               items[3],\n",
    "                               items[6],\n",
    "                               datetime.strptime(items[4], \"%Y-%m-%d %H:%M:%S.%f\"), \n",
    "                               int(items[5]), \n",
    "                               datetime.strptime(items[1], \"%Y-%m-%d %H:%M:%S.%f\"), \n",
    "                               None,\n",
    "                               Decimal(items[7]),\n",
    "                               int(items[8]),\n",
    "                               Decimal(items[9]),\n",
    "                               int(items[10]),\n",
    "                               \"Q\",\n",
    "                               None)\n",
    "            return event\n",
    "    except Exception as e:\n",
    "        return CommonEvent(None,\n",
    "                           None,\n",
    "                           None,\n",
    "                           None,\n",
    "                           None,\n",
    "                           None,\n",
    "                           None,\n",
    "                           None,\n",
    "                           None,\n",
    "                           None,\n",
    "                           None,\n",
    "                           None,\n",
    "                           \"B\",\n",
    "                           str(e))"
   ]
  },
  {
   "cell_type": "code",
   "execution_count": 0,
   "metadata": {
    "application/vnd.databricks.v1+cell": {
     "cellMetadata": {
      "byteLimit": 2048000,
      "rowLimit": 10000
     },
     "inputWidgets": {},
     "nuid": "3a88f609-9fbd-4b38-bb9c-5fc0d299349c",
     "showTitle": false,
     "title": ""
    }
   },
   "outputs": [],
   "source": [
    "parsedcsv = rawcsv.map(lambda line: parse_csv(line))"
   ]
  },
  {
   "cell_type": "code",
   "execution_count": 0,
   "metadata": {
    "application/vnd.databricks.v1+cell": {
     "cellMetadata": {
      "byteLimit": 2048000,
      "rowLimit": 10000
     },
     "inputWidgets": {},
     "nuid": "392dfbfe-5292-45d6-adf9-a9e623cd9026",
     "showTitle": false,
     "title": ""
    }
   },
   "outputs": [],
   "source": [
    "csvdata = spark.createDataFrame(parsedcsv, schema=CommonEventSchema)"
   ]
  },
  {
   "cell_type": "code",
   "execution_count": 0,
   "metadata": {
    "application/vnd.databricks.v1+cell": {
     "cellMetadata": {
      "byteLimit": 2048000,
      "rowLimit": 10000
     },
     "inputWidgets": {},
     "nuid": "b3042dea-e472-469b-9959-90ee19faa6ad",
     "showTitle": false,
     "title": ""
    }
   },
   "outputs": [],
   "source": [
    "rawjson = sc.textFile(\"/mnt/source/data/json/2020-08-05/NASDAQ/part-00000-c6c48831-3d45-4887-ba5f-82060885fc6c-c000.txt\")"
   ]
  },
  {
   "cell_type": "code",
   "execution_count": 0,
   "metadata": {
    "application/vnd.databricks.v1+cell": {
     "cellMetadata": {
      "byteLimit": 2048000,
      "rowLimit": 10000
     },
     "inputWidgets": {},
     "nuid": "e7b98517-d35c-4c23-b4cf-1249946b2852",
     "showTitle": false,
     "title": ""
    }
   },
   "outputs": [],
   "source": [
    "import json\n",
    "def parse_json(line):\n",
    "    try:\n",
    "        line_obj = json.loads(line)\n",
    "        if line_obj['event_type'] == 'T':\n",
    "            event = CommonEvent(datetime.strptime(line_obj['trade_dt'], '%Y-%m-%d'),\n",
    "                                line_obj['event_type'],\n",
    "                                line_obj['symbol'],\n",
    "                                line_obj['exchange'],\n",
    "                                datetime.strptime(line_obj['event_tm'], \"%Y-%m-%d %H:%M:%S.%f\"), \n",
    "                                int(line_obj['event_seq_nb']),\n",
    "                                datetime.strptime(line_obj['file_tm'],\"%Y-%m-%d %H:%M:%S.%f\"), \n",
    "                                Decimal(line_obj['price']),\n",
    "                                None,\n",
    "                                None,\n",
    "                                None,\n",
    "                                None,\n",
    "                                'T',\n",
    "                                None\n",
    "            )\n",
    "            return event\n",
    "        elif line_obj['event_type'] == 'Q':\n",
    "            event = CommonEvent(datetime.strptime(line_obj['trade_dt'], '%Y-%m-%d'),\n",
    "                                line_obj['event_type'],\n",
    "                                line_obj['symbol'],\n",
    "                                line_obj['exchange'],\n",
    "                                datetime.strptime(line_obj['event_tm'], \"%Y-%m-%d %H:%M:%S.%f\"), \n",
    "                                int(line_obj['event_seq_nb']),\n",
    "                                datetime.strptime(line_obj['file_tm'],\"%Y-%m-%d %H:%M:%S.%f\"), \n",
    "                                None,\n",
    "                                Decimal(line_obj['bid_pr']),\n",
    "                                int(line_obj['bid_size']),\n",
    "                                Decimal(line_obj['ask_pr']),\n",
    "                                int(line_obj['ask_size']),\n",
    "                                'Q',\n",
    "                                None\n",
    "            )\n",
    "            return event\n",
    "    except Exception as e:\n",
    "        return CommonEvent(None,\n",
    "                           None,\n",
    "                           None,\n",
    "                           None,\n",
    "                           None,\n",
    "                           None,\n",
    "                           None,\n",
    "                           None,\n",
    "                           None,\n",
    "                           None,\n",
    "                           None,\n",
    "                           None,\n",
    "                           \"B\",\n",
    "                           line)\n"
   ]
  },
  {
   "cell_type": "code",
   "execution_count": 0,
   "metadata": {
    "application/vnd.databricks.v1+cell": {
     "cellMetadata": {
      "byteLimit": 2048000,
      "rowLimit": 10000
     },
     "inputWidgets": {},
     "nuid": "c1f9f9a4-a174-4211-a535-afa1df917865",
     "showTitle": false,
     "title": ""
    }
   },
   "outputs": [],
   "source": [
    "parsedjson = rawjson.map(lambda line: parse_json(line))"
   ]
  },
  {
   "cell_type": "code",
   "execution_count": 0,
   "metadata": {
    "application/vnd.databricks.v1+cell": {
     "cellMetadata": {
      "byteLimit": 2048000,
      "rowLimit": 10000
     },
     "inputWidgets": {},
     "nuid": "28700160-3a7a-4436-8c83-925e385a5129",
     "showTitle": false,
     "title": ""
    }
   },
   "outputs": [],
   "source": [
    "jsondata = spark.createDataFrame(parsedjson, schema=CommonEventSchema)"
   ]
  },
  {
   "cell_type": "code",
   "execution_count": 0,
   "metadata": {
    "application/vnd.databricks.v1+cell": {
     "cellMetadata": {
      "byteLimit": 2048000,
      "rowLimit": 10000
     },
     "inputWidgets": {},
     "nuid": "6d4b8641-37ef-457d-a057-a7e938242af2",
     "showTitle": false,
     "title": ""
    }
   },
   "outputs": [],
   "source": [
    "def get_txt_files(ls_path):\n",
    "    dir_stack = []\n",
    "    dir_stack.append(ls_path)\n",
    "    file_stack = []\n",
    "    while len(dir_stack) > 0:\n",
    "        current_folder = dir_stack.pop(0)\n",
    "        for file in dbutils.fs.ls(current_folder):\n",
    "            if file.isDir() and file.path != current_folder:\n",
    "                dir_stack.append(file.path)\n",
    "            elif file.path.endswith('.txt'):\n",
    "                file_stack.append(file.path)\n",
    "    return file_stack"
   ]
  },
  {
   "cell_type": "code",
   "execution_count": 0,
   "metadata": {
    "application/vnd.databricks.v1+cell": {
     "cellMetadata": {
      "byteLimit": 2048000,
      "rowLimit": 10000
     },
     "inputWidgets": {},
     "nuid": "546a74e5-1dd5-426c-bda3-765fb78938e3",
     "showTitle": false,
     "title": ""
    }
   },
   "outputs": [],
   "source": [
    "for path in get_txt_files('/mnt/source/data/csv/'):\n",
    "    rawcsv = sc.textFile(path)\n",
    "    parsedcsv = rawcsv.map(lambda line: parse_csv(line))\n",
    "    csvdata = spark.createDataFrame(parsedcsv, schema=CommonEventSchema)\n",
    "    csvdata.write.partitionBy('partition').mode('append').parquet('/mnt/parsed/')"
   ]
  },
  {
   "cell_type": "code",
   "execution_count": 0,
   "metadata": {
    "application/vnd.databricks.v1+cell": {
     "cellMetadata": {
      "byteLimit": 2048000,
      "rowLimit": 10000
     },
     "inputWidgets": {},
     "nuid": "6f7d8642-642e-4b45-a1b7-a3e686da7888",
     "showTitle": false,
     "title": ""
    }
   },
   "outputs": [],
   "source": [
    "for path in get_txt_files('/mnt/source/data/json/'):\n",
    "    rawjson = sc.textFile(path)\n",
    "    parsedjson = rawjson.map(lambda line: parse_json(line))\n",
    "    jsondata = spark.createDataFrame(parsedjson, schema=CommonEventSchema)\n",
    "    jsondata.write.partitionBy('partition').mode('append').parquet('/mnt/parsed/')"
   ]
  }
 ],
 "metadata": {
  "application/vnd.databricks.v1+notebook": {
   "dashboards": [],
   "environmentMetadata": null,
   "language": "python",
   "notebookMetadata": {
    "pythonIndentUnit": 4
   },
   "notebookName": "Data Ingestion",
   "widgets": {}
  }
 },
 "nbformat": 4,
 "nbformat_minor": 0
}
